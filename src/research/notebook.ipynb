{
 "cells": [
  {
   "cell_type": "code",
   "execution_count": 1,
   "metadata": {},
   "outputs": [],
   "source": [
    "import torch\n",
    "from time import perf_counter\n",
    "from scipy import ndimage"
   ]
  },
  {
   "cell_type": "code",
   "execution_count": 2,
   "metadata": {},
   "outputs": [
    {
     "data": {
      "text/plain": [
       "tensor([[[[-1.1258, -1.1524, -0.2506],\n",
       "          [-0.4339,  0.8487,  0.6920],\n",
       "          [-0.3160, -2.1152,  0.3223]],\n",
       "\n",
       "         [[-1.2633,  0.3500,  0.3081],\n",
       "          [ 0.1198,  1.2377,  1.1168],\n",
       "          [-0.2473, -1.3527, -1.6959]]],\n",
       "\n",
       "\n",
       "        [[[ 0.5667,  0.7935,  0.4397],\n",
       "          [ 0.1124,  0.6408,  0.4412],\n",
       "          [-0.2159, -0.7425,  0.5627]],\n",
       "\n",
       "         [[ 0.2596,  0.5229,  2.3022],\n",
       "          [-1.4689, -1.5867,  1.2032],\n",
       "          [ 0.0845, -1.2001, -0.0048]]]])"
      ]
     },
     "execution_count": 2,
     "metadata": {},
     "output_type": "execute_result"
    }
   ],
   "source": [
    "torch.manual_seed(0)\n",
    "value = torch.randn((2,2,3,3))\n",
    "value"
   ]
  },
  {
   "cell_type": "code",
   "execution_count": 3,
   "metadata": {},
   "outputs": [
    {
     "data": {
      "text/plain": [
       "tensor([[[[0.0000, 0.0000, 0.0000],\n",
       "          [0.0000, 0.8487, 0.6920],\n",
       "          [0.0000, 0.0000, 0.3223]],\n",
       "\n",
       "         [[0.0000, 0.3500, 0.3081],\n",
       "          [0.1198, 1.2377, 1.1168],\n",
       "          [0.0000, 0.0000, 0.0000]]],\n",
       "\n",
       "\n",
       "        [[[0.5667, 0.7935, 0.4397],\n",
       "          [0.1124, 0.6408, 0.4412],\n",
       "          [0.0000, 0.0000, 0.5627]],\n",
       "\n",
       "         [[0.2596, 0.5229, 2.3022],\n",
       "          [0.0000, 0.0000, 1.2032],\n",
       "          [0.0845, 0.0000, 0.0000]]]])"
      ]
     },
     "execution_count": 3,
     "metadata": {},
     "output_type": "execute_result"
    }
   ],
   "source": [
    "torch.where(value > 0, value, torch.full_like(value, 0))"
   ]
  },
  {
   "cell_type": "code",
   "execution_count": 113,
   "metadata": {},
   "outputs": [
    {
     "name": "stdout",
     "output_type": "stream",
     "text": [
      "time:  0.0008340059998772631\n"
     ]
    }
   ],
   "source": [
    "time = perf_counter()\n",
    "mask_broadcasted = mask.expand(-1, value.shape[1], -1, -1)\n",
    "\n",
    "\n",
    "# Apply the mask to all channels in the value tensor\n",
    "masked_value2 = value * mask_broadcasted\n",
    "end = perf_counter()\n",
    "print(\"time: \", end - time)"
   ]
  },
  {
   "cell_type": "code",
   "execution_count": 89,
   "metadata": {},
   "outputs": [
    {
     "data": {
      "text/plain": [
       "tensor(-0.)"
      ]
     },
     "execution_count": 89,
     "metadata": {},
     "output_type": "execute_result"
    }
   ],
   "source": [
    "masked_value2[0, 0, 1, 0]"
   ]
  },
  {
   "cell_type": "code",
   "execution_count": 138,
   "metadata": {},
   "outputs": [
    {
     "name": "stdout",
     "output_type": "stream",
     "text": [
      "==>> a.shape: torch.Size([1, 1, 3, 3])\n",
      "==>> m.shape: torch.Size([1, 1, 3, 3])\n"
     ]
    },
    {
     "data": {
      "text/plain": [
       "6"
      ]
     },
     "execution_count": 138,
     "metadata": {},
     "output_type": "execute_result"
    }
   ],
   "source": [
    "a = torch.Tensor([[[[1,2,3],\n",
    "                   [4,5,6],\n",
    "                   [7,8,9]]]])\n",
    "print(f\"==>> a.shape: {a.shape}\")\n",
    "m = torch.Tensor([[[[1, 0, 1],\n",
    "                  [1, 0, 1],\n",
    "                  [1, 0, 1]]]]).bool()\n",
    "print(f\"==>> m.shape: {m.shape}\")\n",
    "\n",
    "labels, n = ndimage.label(m)\n",
    "\n",
    "ndimage.sum_labels(m, labels=labels)"
   ]
  },
  {
   "cell_type": "code",
   "execution_count": null,
   "metadata": {},
   "outputs": [],
   "source": []
  }
 ],
 "metadata": {
  "kernelspec": {
   "display_name": "HuanAI",
   "language": "python",
   "name": "python3"
  },
  "language_info": {
   "codemirror_mode": {
    "name": "ipython",
    "version": 3
   },
   "file_extension": ".py",
   "mimetype": "text/x-python",
   "name": "python",
   "nbconvert_exporter": "python",
   "pygments_lexer": "ipython3",
   "version": "3.8.10"
  },
  "orig_nbformat": 4
 },
 "nbformat": 4,
 "nbformat_minor": 2
}
