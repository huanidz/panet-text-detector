{
 "cells": [
  {
   "cell_type": "code",
   "execution_count": 1,
   "metadata": {},
   "outputs": [],
   "source": [
    "import numpy as np\n",
    "import cv2\n",
    "import xml.etree.ElementTree as ET\n",
    "from imgaug.augmentables.polys import Polygon, PolygonsOnImage\n",
    "from imgaug.augmentables.segmaps import SegmentationMapsOnImage\n",
    "from imgaug import augmenters as iaa\n",
    "import imgaug as ia\n",
    "from scipy import ndimage\n",
    "import imageio\n",
    "\n",
    "import sys\n",
    "np.set_printoptions(threshold=sys.maxsize)\n",
    "\n",
    "ia.seed(1)"
   ]
  },
  {
   "cell_type": "code",
   "execution_count": 2,
   "metadata": {},
   "outputs": [],
   "source": [
    "def extract_coords(segs):\n",
    "        # Split the coordinates into pairs of X, Y values\n",
    "        coords = [int(coord) for coord in segs.split(',')]\n",
    "        return [(coords[i], coords[i + 1]) for i in range(0, len(coords), 2)]\n",
    "\n",
    "def make_text_mask_and_kernel_mask(image_path, label_path, target_size):\n",
    "        # print(\"image_path:\", image_path)\n",
    "        image = cv2.imread(image_path, flags=cv2.IMREAD_COLOR)\n",
    "        H, W, _ = image.shape\n",
    "        scale_h = (target_size) / H\n",
    "        scale_w = (target_size) / W\n",
    "        \n",
    "        image = cv2.resize(image, dsize=(target_size, target_size))\n",
    "        \n",
    "        model_out_size = target_size\n",
    "        text_mask = np.zeros((model_out_size, model_out_size), dtype=np.int32)\n",
    "        \n",
    "        # Parse the XML label file\n",
    "        tree = ET.parse(label_path)\n",
    "        root = tree.getroot()\n",
    "        \n",
    "        all_boxes = root.findall(\".//box\")\n",
    "        polys = []\n",
    "        for idx, box in enumerate(all_boxes):\n",
    "            segs = box.find(\"segs\").text\n",
    "            coords = extract_coords(segs)\n",
    "\n",
    "            # Draw the polygon on the image\n",
    "            pts = [list(coord) for coord in coords]\n",
    "            if len(pts) != 0:\n",
    "                polys.append(pts) \n",
    "                pts = np.array(pts, np.int32).reshape((-1, 1, 2))\n",
    "                pts = [[coord[0] * scale_w, coord[1] * scale_h] for coord in coords]\n",
    "            else:\n",
    "                continue\n",
    "            \n",
    "            try:\n",
    "                pts = np.array(pts, np.int32).reshape((-1, 1, 2))\n",
    "                cv2.fillPoly(text_mask, [pts], color=(idx + 1), lineType=cv2.LINE_AA)\n",
    "            except:\n",
    "                print(f\"Found mis-label polygon in the file: {image_path}. Ignoring it!\")\n",
    "                continue\n",
    "            \n",
    "        return image, text_mask, polys"
   ]
  },
  {
   "cell_type": "code",
   "execution_count": 3,
   "metadata": {},
   "outputs": [
    {
     "name": "stdout",
     "output_type": "stream",
     "text": [
      "<class 'imgaug.augmentables.segmaps.SegmentationMapsOnImage'>\n",
      "<class 'imgaug.augmentables.segmaps.SegmentationMapsOnImage'>\n",
      "<class 'imgaug.augmentables.segmaps.SegmentationMapsOnImage'>\n",
      "<class 'imgaug.augmentables.segmaps.SegmentationMapsOnImage'>\n",
      "<class 'imgaug.augmentables.segmaps.SegmentationMapsOnImage'>\n"
     ]
    }
   ],
   "source": [
    "if __name__ == \"__main__\":\n",
    "    image_path = \"../../data/train_images/0001.jpg\"\n",
    "    label_path = \"../../data/train_labels/0001.xml\"\n",
    "    target_size = 640\n",
    "    \n",
    "    image, mask, polys = make_text_mask_and_kernel_mask(image_path=image_path, label_path=label_path, target_size=target_size)\n",
    "    \n",
    "    mask_labeled, _ = ndimage.label(mask)\n",
    "\n",
    "    \n",
    "    segmap = SegmentationMapsOnImage(mask_labeled, shape=mask_labeled.shape)\n",
    "    \n",
    "    seq = iaa.Sequential([\n",
    "        iaa.Sometimes(0.5, iaa.Affine(scale=(0.9, 1.1))),\n",
    "        iaa.Sometimes(0.5, iaa.Fliplr(p=1)),\n",
    "        iaa.Sometimes(0.5, iaa.Affine(rotate=(0, 360))),\n",
    "        iaa.Sometimes(0.5, iaa.CropToFixedSize(height=640, width=640))\n",
    "    ], random_order=True)\n",
    "    \n",
    "    # Augment images and segmaps.\n",
    "    images_aug = []\n",
    "    segmaps_aug = []\n",
    "    for _ in range(5):\n",
    "        images_aug_i, segmaps_aug_i = seq(image=image, segmentation_maps=segmap)\n",
    "        print(type(segmaps_aug_i))\n",
    "        images_aug.append(images_aug_i)\n",
    "        segmaps_aug.append(segmaps_aug_i)\n",
    "        \n",
    "    cells = []\n",
    "    for image_aug, segmap_aug in zip(images_aug, segmaps_aug):\n",
    "        cells.append(image)                                         # column 1\n",
    "        cells.append(segmap.draw_on_image(image)[0])                # column 2\n",
    "        cells.append(image_aug)                                     # column 3\n",
    "        cells.append(segmap_aug.draw_on_image(image_aug)[0])        # column 4\n",
    "        cells.append(segmap_aug.draw(size=image_aug.shape[:2])[0])  # column 5\n",
    "\n",
    "    # Convert cells to a grid image and save.\n",
    "    grid_image = ia.draw_grid(cells, cols=5)\n",
    "    imageio.imwrite(\"example_segmaps.jpg\", grid_image)"
   ]
  },
  {
   "cell_type": "code",
   "execution_count": null,
   "metadata": {},
   "outputs": [],
   "source": []
  }
 ],
 "metadata": {
  "kernelspec": {
   "display_name": "HuanAI",
   "language": "python",
   "name": "python3"
  },
  "language_info": {
   "codemirror_mode": {
    "name": "ipython",
    "version": 3
   },
   "file_extension": ".py",
   "mimetype": "text/x-python",
   "name": "python",
   "nbconvert_exporter": "python",
   "pygments_lexer": "ipython3",
   "version": "3.8.10"
  },
  "orig_nbformat": 4
 },
 "nbformat": 4,
 "nbformat_minor": 2
}
